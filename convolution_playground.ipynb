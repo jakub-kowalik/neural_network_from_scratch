{
 "cells": [
  {
   "cell_type": "code",
   "execution_count": 1,
   "metadata": {
    "collapsed": true
   },
   "outputs": [],
   "source": [
    "from src.models import Sequential\n",
    "from src.layers import *\n",
    "from src.activation_functions import *\n",
    "from src.loss_functions import *\n",
    "\n",
    "import matplotlib.pyplot as plt\n",
    "import numpy as np\n",
    "from sklearn import datasets\n",
    "from sklearn.metrics import confusion_matrix, ConfusionMatrixDisplay\n",
    "from sklearn.metrics import f1_score, balanced_accuracy_score\n",
    "from sklearn.model_selection import train_test_split\n",
    "from sklearn.preprocessing import OneHotEncoder\n"
   ]
  },
  {
   "cell_type": "code",
   "execution_count": 2,
   "outputs": [],
   "source": [
    "the_image = np.random.random((1, 1, 28, 28))"
   ],
   "metadata": {
    "collapsed": false
   }
  },
  {
   "cell_type": "code",
   "execution_count": 3,
   "outputs": [],
   "source": [
    "# weights = np.random.normal(0, stddev, (n_inputs, n_outputs, filter_size, filter_size)).astype(np.float32)"
   ],
   "metadata": {
    "collapsed": false
   }
  },
  {
   "cell_type": "code",
   "execution_count": 4,
   "outputs": [
    {
     "data": {
      "text/plain": "(1, 3, 7, 7)"
     },
     "execution_count": 4,
     "metadata": {},
     "output_type": "execute_result"
    }
   ],
   "source": [
    "img = np.asarray([[\n",
    "    [\n",
    "        [2, 2, 0, 0, 0],\n",
    "        [2, 0, 1, 0, 1],\n",
    "        [2, 0, 1, 2, 1],\n",
    "        [2, 0, 0, 1, 0],\n",
    "        [0, 2, 1, 0, 1]\n",
    "    ],\n",
    "    [\n",
    "        [2, 1, 1, 2, 0],\n",
    "        [0, 2, 1, 2, 1],\n",
    "        [2, 2, 1, 0, 2],\n",
    "        [2, 2, 2, 2, 0],\n",
    "        [1, 2, 0, 2, 1]\n",
    "    ],\n",
    "    [\n",
    "        [0, 1, 1, 0, 0],\n",
    "        [0, 0, 1, 2, 0],\n",
    "        [2, 0, 1, 1, 2],\n",
    "        [1, 1, 2, 1, 2],\n",
    "        [0, 2, 1, 0, 1]\n",
    "    ],\n",
    "]])\n",
    "\n",
    "the_image = np.pad(img, ((0, 0), (0, 0), (1, 1), (1, 1)))\n",
    "\n",
    "the_image.shape"
   ],
   "metadata": {
    "collapsed": false
   }
  },
  {
   "cell_type": "code",
   "execution_count": 5,
   "outputs": [
    {
     "data": {
      "text/plain": "(2, 3, 3, 3)"
     },
     "execution_count": 5,
     "metadata": {},
     "output_type": "execute_result"
    }
   ],
   "source": [
    "weights = np.asarray([\n",
    "    [\n",
    "        [\n",
    "            [1, 0, 0],\n",
    "            [0, 0, -1],\n",
    "            [0, 0, -1]\n",
    "        ],\n",
    "        [\n",
    "            [1, 1, 0],\n",
    "            [-1, 1, -1],\n",
    "            [1, 1, 1]\n",
    "        ],\n",
    "        [\n",
    "            [0, -1, 1],\n",
    "            [1, -1, -1],\n",
    "            [0, -1, 1]\n",
    "        ]\n",
    "    ],\n",
    "    [\n",
    "        [\n",
    "            [0, -1, 1],\n",
    "            [0, 0, -1],\n",
    "            [1, 0, -1]\n",
    "        ],\n",
    "        [\n",
    "            [1, 1, -1],\n",
    "            [0, 0, 0],\n",
    "            [-1, 0, -1]\n",
    "        ],\n",
    "        [\n",
    "            [0, 0, 1],\n",
    "            [0, 0, -1],\n",
    "            [0, 1, -1]\n",
    "        ]\n",
    "    ],\n",
    "])\n",
    "\n",
    "weights.shape"
   ],
   "metadata": {
    "collapsed": false
   }
  },
  {
   "cell_type": "code",
   "execution_count": 6,
   "outputs": [
    {
     "data": {
      "text/plain": "array([[[[ 1,  0,  0],\n         [ 0,  0, -1],\n         [ 0,  0, -1]],\n\n        [[ 1,  1,  0],\n         [-1,  1, -1],\n         [ 1,  1,  1]],\n\n        [[ 0, -1,  1],\n         [ 1, -1, -1],\n         [ 0, -1,  1]]],\n\n\n       [[[ 0, -1,  1],\n         [ 0,  0, -1],\n         [ 1,  0, -1]],\n\n        [[ 1,  1, -1],\n         [ 0,  0,  0],\n         [-1,  0, -1]],\n\n        [[ 0,  0,  1],\n         [ 0,  0, -1],\n         [ 0,  1, -1]]]])"
     },
     "execution_count": 6,
     "metadata": {},
     "output_type": "execute_result"
    }
   ],
   "source": [
    "weights"
   ],
   "metadata": {
    "collapsed": false
   }
  },
  {
   "cell_type": "code",
   "execution_count": 7,
   "outputs": [
    {
     "data": {
      "text/plain": "(1, 2, 3, 3)"
     },
     "execution_count": 7,
     "metadata": {},
     "output_type": "execute_result"
    }
   ],
   "source": [
    "input_height = img.shape[2]\n",
    "input_width = img.shape[3]\n",
    "\n",
    "new_h = ((input_height - 3 + (2 * 1)) // 2) + 1\n",
    "new_w = ((input_width - 3 + (2 * 1)) // 2) + 1\n",
    "\n",
    "output = np.empty((the_image.shape[0], 2, new_h, new_w))\n",
    "output.shape"
   ],
   "metadata": {
    "collapsed": false
   }
  },
  {
   "cell_type": "code",
   "execution_count": 8,
   "outputs": [
    {
     "data": {
      "text/plain": "(1, 3, 7, 7)"
     },
     "execution_count": 8,
     "metadata": {},
     "output_type": "execute_result"
    }
   ],
   "source": [
    "the_image.shape"
   ],
   "metadata": {
    "collapsed": false
   }
  },
  {
   "cell_type": "code",
   "execution_count": 9,
   "outputs": [],
   "source": [
    "bias = np.asarray([1, 0])"
   ],
   "metadata": {
    "collapsed": false
   }
  },
  {
   "cell_type": "code",
   "execution_count": 10,
   "outputs": [],
   "source": [
    "# for b in range(output.shape[0]):\n",
    "for f in range(2):\n",
    "    for h in range(output.shape[2]):\n",
    "        for w in range(output.shape[3]):\n",
    "            output[:, f, h, w] = np.sum(the_image[:, :, h * 2:h * 2+3, w * 2:w * 2+3] * weights[f, :]) + bias[f]\n"
   ],
   "metadata": {
    "collapsed": false
   }
  },
  {
   "cell_type": "code",
   "execution_count": 11,
   "outputs": [
    {
     "data": {
      "text/plain": "array([[[[ 1.,  5.,  2.],\n         [ 3.,  4.,  5.],\n         [-2.,  1.,  0.]],\n\n        [[-5., -5., -2.],\n         [-6., -5.,  3.],\n         [-5.,  4.,  2.]]]])"
     },
     "execution_count": 11,
     "metadata": {},
     "output_type": "execute_result"
    }
   ],
   "source": [
    "output"
   ],
   "metadata": {
    "collapsed": false
   }
  },
  {
   "cell_type": "code",
   "execution_count": 12,
   "outputs": [],
   "source": [
    "from src.layers import Conv2D\n",
    "\n",
    "conv = Conv2D(3, 2, 3, 2, 1)"
   ],
   "metadata": {
    "collapsed": false
   }
  },
  {
   "cell_type": "code",
   "execution_count": 17,
   "outputs": [],
   "source": [
    "conv.weights = weights.astype(np.float32)"
   ],
   "metadata": {
    "collapsed": false
   }
  },
  {
   "cell_type": "code",
   "execution_count": 18,
   "outputs": [],
   "source": [
    "conv.bias = np.asarray([[1, 0]]).astype(np.float32)"
   ],
   "metadata": {
    "collapsed": false
   }
  },
  {
   "cell_type": "code",
   "execution_count": 19,
   "outputs": [
    {
     "data": {
      "text/plain": "array([[[[ 1.,  5.,  2.],\n         [ 3.,  4.,  5.],\n         [-2.,  1.,  0.]],\n\n        [[-5., -5., -2.],\n         [-6., -5.,  3.],\n         [-5.,  4.,  2.]]]])"
     },
     "execution_count": 19,
     "metadata": {},
     "output_type": "execute_result"
    }
   ],
   "source": [
    "out_c = conv.forward(img)\n",
    "out_c"
   ],
   "metadata": {
    "collapsed": false
   }
  },
  {
   "cell_type": "code",
   "execution_count": 20,
   "outputs": [
    {
     "data": {
      "text/plain": "array([[[[4.94065646e-324, 6.95235280e-310, 2.65313252e-321,\n                      nan, 6.95235281e-310],\n         [0.00000000e+000, 1.95066341e-153, 2.32111980e-152,\n          4.55598118e+198, 4.38365256e-019],\n         [4.17985905e+222, 6.96747082e+252, 1.06145241e+170,\n          4.52745891e+257, 7.94651531e-061],\n         [1.29507851e+214, 1.89123196e+219, 3.57725758e-057,\n          1.01196552e+200, 1.07014329e+170],\n         [4.52745891e+257, 6.96771801e+252, 1.29507851e+214,\n          1.89123196e+219, 1.85019266e-070]],\n\n        [[1.29507851e+214, 1.89123196e+219, 7.94651695e-061,\n          1.29507851e+214, 1.89123196e+219],\n         [2.23674567e-046, 1.22829256e+184, 8.99851346e+130,\n          3.18539647e-120, 1.49347735e+214],\n         [1.41167386e-095, 2.32111980e-152, 1.61860966e+184,\n          2.70038117e-009, 1.35507324e+248],\n         [8.18434960e-085, 7.82755902e-120, 1.38497215e+219,\n          8.99851360e+130, 3.18539647e-120],\n         [3.63521590e+228, 7.82758275e-120, 6.09114709e+247,\n          9.10016855e+276, 9.05437256e+271]],\n\n        [[1.05775045e-153, 1.20495604e-118, 6.09114709e+247,\n          8.80946296e-119, 6.09114709e+247],\n         [6.46572285e+170, 1.29507851e+214, 1.16312484e+253,\n          1.06145241e+170, 8.77626101e+252],\n         [1.29507851e+214, 1.89123196e+219, 6.32374340e-119,\n          1.03895284e-095, 2.32111980e-152],\n         [5.75045670e+169, 1.97498436e+166, 1.17180086e-047,\n          1.35507324e+248, 8.18434960e-085],\n         [4.87243964e-119, 1.06145240e+170, 4.52745891e+257,\n          5.30986390e+180, 6.18464804e-092]]]])"
     },
     "execution_count": 20,
     "metadata": {},
     "output_type": "execute_result"
    }
   ],
   "source": [
    "conv.backward(out_c, 0.1)"
   ],
   "metadata": {
    "collapsed": false
   }
  },
  {
   "cell_type": "code",
   "execution_count": 21,
   "outputs": [
    {
     "data": {
      "text/plain": "array([[[[-1.4000001 ,  0.1       , -0.5       ],\n         [-0.8       , -1.7       ,  0.39999998],\n         [-1.6       ,  0.7       , -0.5       ]],\n\n        [[-1.4000001 ,  1.1       , -0.5       ],\n         [-1.8       , -0.70000005,  0.39999998],\n         [-0.6       ,  1.7       ,  1.5       ]],\n\n        [[-2.4       , -0.9       ,  0.5       ],\n         [ 0.19999999, -2.7       ,  0.39999998],\n         [-1.6       , -0.3       ,  1.5       ]]],\n\n\n       [[[-1.        , -1.7       ,  2.5       ],\n         [-2.8       ,  1.5       ,  1.4000001 ],\n         [-0.5       , -0.2       ,  0.5       ]],\n\n        [[ 0.        ,  0.3       ,  0.5       ],\n         [-2.8       ,  1.5       ,  2.4       ],\n         [-2.5       , -0.2       ,  0.5       ]],\n\n        [[-1.        , -0.7       ,  2.5       ],\n         [-2.8       ,  1.5       ,  1.4000001 ],\n         [-1.5       ,  0.8       ,  0.5       ]]]], dtype=float32)"
     },
     "execution_count": 21,
     "metadata": {},
     "output_type": "execute_result"
    }
   ],
   "source": [
    "conv.weights"
   ],
   "metadata": {
    "collapsed": false
   }
  },
  {
   "cell_type": "code",
   "execution_count": null,
   "outputs": [],
   "source": [
    "test_error = np.asarray([[\n",
    "    [0, 0, 0, 0, 0],\n",
    "    [0, 1, 1, 1, 0],\n",
    "    [0, 1, 1, 1, 0],\n",
    "    [0, 1, 1, 1, 0],\n",
    "    [0, 1, 1, 1, 0],\n",
    "    [0, 0, 0, 0, 0]\n",
    "]])\n",
    "print(test_error.shape)\n",
    "\n",
    "test_error_padded = np.pad(test_error[0], 1)\n",
    "test_error2 = np.expand_dims(test_error_padded, (0, 1))"
   ],
   "metadata": {
    "collapsed": false
   }
  },
  {
   "cell_type": "code",
   "execution_count": null,
   "outputs": [],
   "source": [
    "test_error2.shape"
   ],
   "metadata": {
    "collapsed": false
   }
  },
  {
   "cell_type": "code",
   "execution_count": null,
   "outputs": [],
   "source": [
    "test_error"
   ],
   "metadata": {
    "collapsed": false
   }
  },
  {
   "cell_type": "code",
   "execution_count": null,
   "outputs": [],
   "source": [
    "weig = np.asarray([[\n",
    "    [-1, 0, 1],\n",
    "    [-2, 0, 2],\n",
    "    [-1, 0, 1]\n",
    "],\n",
    "[\n",
    "    [1, 0, -1],\n",
    "    [2, 0, -2],\n",
    "    [1, 0, -1]\n",
    "]])"
   ],
   "metadata": {
    "collapsed": false
   }
  },
  {
   "cell_type": "code",
   "execution_count": null,
   "outputs": [],
   "source": [
    "weig.shape"
   ],
   "metadata": {
    "collapsed": false
   }
  },
  {
   "cell_type": "code",
   "execution_count": null,
   "outputs": [],
   "source": [
    "error_conv = np.zeros((1, 1, 6, 5))\n",
    "error_conv.shape"
   ],
   "metadata": {
    "collapsed": false
   }
  },
  {
   "cell_type": "code",
   "execution_count": null,
   "outputs": [],
   "source": [
    "for b in range(error_conv.shape[0]):\n",
    "    for f in range(error_conv.shape[1]):\n",
    "        for h in range(error_conv.shape[2]):\n",
    "            for w in range(error_conv.shape[3]):\n",
    "                error_conv[b, f, h, w] = np.sum(\n",
    "                    test_error2[b, f, h:h+3, w:w+3] * weig[f]\n",
    "                )"
   ],
   "metadata": {
    "collapsed": false
   }
  },
  {
   "cell_type": "code",
   "execution_count": null,
   "outputs": [],
   "source": [
    "error_conv.shape"
   ],
   "metadata": {
    "collapsed": false
   }
  },
  {
   "cell_type": "code",
   "execution_count": null,
   "outputs": [],
   "source": [
    "error_conv[0]"
   ],
   "metadata": {
    "collapsed": false
   }
  },
  {
   "cell_type": "code",
   "execution_count": null,
   "outputs": [],
   "source": [
    "import scipy"
   ],
   "metadata": {
    "collapsed": false
   }
  },
  {
   "cell_type": "code",
   "execution_count": null,
   "outputs": [],
   "source": [
    "scipy.signal.correlate2d(test_error[0][0], weig[0])"
   ],
   "metadata": {
    "collapsed": false
   }
  },
  {
   "cell_type": "code",
   "execution_count": null,
   "outputs": [],
   "source": [
    "test_error[0][0][1:-1, 1:-1] * error_conv[0][0]"
   ],
   "metadata": {
    "collapsed": false
   }
  },
  {
   "cell_type": "code",
   "execution_count": null,
   "outputs": [],
   "source": [
    "test_error2 = np.asarray([[\n",
    "    [0, 0, 0, 0, 0],\n",
    "    [0, 1, 1, 1, 0],\n",
    "    [0, 1, 1, 1, 0],\n",
    "    [0, 1, 1, 1, 0],\n",
    "    [0, 1, 1, 1, 0],\n",
    "    [0, 0, 0, 0, 0]\n",
    "]])\n",
    "\n",
    "test_error = test_error[1:-1, 1:-1]\n",
    "\n",
    "test_inp = np.asarray([[\n",
    "    [1, 1, 1, 2, 3],\n",
    "    [1, 1, 1, 2, 3],\n",
    "    [1, 1, 1, 2, 3],\n",
    "    [2, 2, 2, 2, 3],\n",
    "    [3, 3, 3, 3, 3],\n",
    "    [4, 4, 4, 4, 4],\n",
    "], [\n",
    "    [1, 1, 1, 2, 3],\n",
    "    [1, 1, 1, 2, 3],\n",
    "    [1, 1, 1, 2, 3],\n",
    "    [2, 2, 2, 2, 3],\n",
    "    [3, 3, 3, 3, 3],\n",
    "    [4, 4, 4, 4, 4],\n",
    "]])\n",
    "\n",
    "test_weig = np.asarray([[\n",
    "    [-1, 0, 1],\n",
    "    [-2, 0, 2],\n",
    "    [-1, 0, 1]\n",
    "],[\n",
    "    [-1, 0, 1],\n",
    "    [-2, 0, 2],\n",
    "    [-1, 0, 1]\n",
    "]])"
   ],
   "metadata": {
    "collapsed": false
   }
  },
  {
   "cell_type": "code",
   "execution_count": null,
   "outputs": [],
   "source": [
    "test_grad = np.zeros((2, 3, 3))"
   ],
   "metadata": {
    "collapsed": false
   }
  },
  {
   "cell_type": "code",
   "execution_count": null,
   "outputs": [],
   "source": [
    "# for b in range(test_grad.shape[0]):\n",
    "for h in range(test_grad.shape[1]):\n",
    "    for w in range(test_grad.shape[2]):\n",
    "        test_grad[:, h, w] = np.sum(\n",
    "            test_inp[:, h:h+test_error.shape[0], w:w+test_error.shape[1]] * test_error\n",
    "        , axis=(1, 2))"
   ],
   "metadata": {
    "collapsed": false
   }
  },
  {
   "cell_type": "code",
   "execution_count": null,
   "outputs": [],
   "source": [
    "print(test_grad)"
   ],
   "metadata": {
    "collapsed": false
   }
  },
  {
   "cell_type": "code",
   "execution_count": null,
   "outputs": [],
   "source": [
    "test_error2 = np.expand_dims(test_error2, 0)"
   ],
   "metadata": {
    "collapsed": false
   }
  },
  {
   "cell_type": "code",
   "execution_count": null,
   "outputs": [],
   "source": [
    "test_error2.shape"
   ],
   "metadata": {
    "collapsed": false
   }
  },
  {
   "cell_type": "code",
   "execution_count": null,
   "outputs": [],
   "source": [
    "test_error2"
   ],
   "metadata": {
    "collapsed": false
   }
  },
  {
   "cell_type": "code",
   "execution_count": null,
   "outputs": [],
   "source": [
    "test_im_err = np.zeros((1, 1, 6, 5))"
   ],
   "metadata": {
    "collapsed": false
   }
  },
  {
   "cell_type": "code",
   "execution_count": null,
   "outputs": [],
   "source": [
    "test_weig.shape"
   ],
   "metadata": {
    "collapsed": false
   }
  },
  {
   "cell_type": "code",
   "execution_count": null,
   "outputs": [],
   "source": [
    "# for b in range(test_grad.shape[0]):\n",
    "for h in range(6):\n",
    "    for w in range(5):\n",
    "        test_im_err[:, :, h, w] = np.sum(\n",
    "            test_error2[:, :, h:h+3, w:w+3] * test_weig)"
   ],
   "metadata": {
    "collapsed": false
   }
  },
  {
   "cell_type": "code",
   "execution_count": null,
   "outputs": [],
   "source": [
    "test_im_err"
   ],
   "metadata": {
    "collapsed": false
   }
  },
  {
   "cell_type": "code",
   "execution_count": null,
   "outputs": [],
   "source": [
    "scipy.signal.correlate2d(test_error2[0][0], test_weig[0])"
   ],
   "metadata": {
    "collapsed": false
   }
  },
  {
   "cell_type": "code",
   "execution_count": null,
   "outputs": [],
   "source": [],
   "metadata": {
    "collapsed": false
   }
  }
 ],
 "metadata": {
  "kernelspec": {
   "display_name": "Python 3",
   "language": "python",
   "name": "python3"
  },
  "language_info": {
   "codemirror_mode": {
    "name": "ipython",
    "version": 2
   },
   "file_extension": ".py",
   "mimetype": "text/x-python",
   "name": "python",
   "nbconvert_exporter": "python",
   "pygments_lexer": "ipython2",
   "version": "2.7.6"
  }
 },
 "nbformat": 4,
 "nbformat_minor": 0
}
