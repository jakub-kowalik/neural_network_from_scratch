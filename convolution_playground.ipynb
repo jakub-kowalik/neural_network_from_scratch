{
 "cells": [
  {
   "cell_type": "code",
   "execution_count": 1,
   "metadata": {
    "collapsed": true
   },
   "outputs": [],
   "source": [
    "from src.models import Sequential\n",
    "from src.layers import *\n",
    "from src.activation_functions import *\n",
    "from src.loss_functions import *\n",
    "\n",
    "import matplotlib.pyplot as plt\n",
    "import numpy as np\n",
    "from sklearn import datasets\n",
    "from sklearn.metrics import confusion_matrix, ConfusionMatrixDisplay\n",
    "from sklearn.metrics import f1_score, balanced_accuracy_score\n",
    "from sklearn.model_selection import train_test_split\n",
    "from sklearn.preprocessing import OneHotEncoder"
   ]
  },
  {
   "cell_type": "code",
   "execution_count": 2,
   "outputs": [],
   "source": [
    "the_image = np.random.random((1, 1, 28, 28))"
   ],
   "metadata": {
    "collapsed": false
   }
  },
  {
   "cell_type": "code",
   "execution_count": 3,
   "outputs": [],
   "source": [
    "# weights = np.random.normal(0, stddev, (n_inputs, n_outputs, filter_size, filter_size)).astype(np.float32)"
   ],
   "metadata": {
    "collapsed": false
   }
  },
  {
   "cell_type": "code",
   "execution_count": 4,
   "outputs": [
    {
     "data": {
      "text/plain": "(2, 3, 7, 7)"
     },
     "execution_count": 4,
     "metadata": {},
     "output_type": "execute_result"
    }
   ],
   "source": [
    "img = np.asarray(\n",
    "    [\n",
    "        [\n",
    "            [\n",
    "                [2, 2, 0, 0, 0],\n",
    "                [2, 0, 1, 0, 1],\n",
    "                [2, 0, 1, 2, 1],\n",
    "                [2, 0, 0, 1, 0],\n",
    "                [0, 2, 1, 0, 1],\n",
    "            ],\n",
    "            [\n",
    "                [2, 1, 1, 2, 0],\n",
    "                [0, 2, 1, 2, 1],\n",
    "                [2, 2, 1, 0, 2],\n",
    "                [2, 2, 2, 2, 0],\n",
    "                [1, 2, 0, 2, 1],\n",
    "            ],\n",
    "            [\n",
    "                [0, 1, 1, 0, 0],\n",
    "                [0, 0, 1, 2, 0],\n",
    "                [2, 0, 1, 1, 2],\n",
    "                [1, 1, 2, 1, 2],\n",
    "                [0, 2, 1, 0, 1],\n",
    "            ],\n",
    "        ],\n",
    "        [\n",
    "            [\n",
    "                [2, 2, 0, 0, 0],\n",
    "                [2, 0, 1, 0, 1],\n",
    "                [2, 0, 1, 2, 1],\n",
    "                [2, 0, 0, 1, 0],\n",
    "                [0, 2, 1, 0, 1],\n",
    "            ],\n",
    "            [\n",
    "                [2, 1, 1, 2, 0],\n",
    "                [0, 2, 1, 2, 1],\n",
    "                [2, 2, 1, 0, 2],\n",
    "                [2, 2, 2, 2, 0],\n",
    "                [1, 2, 0, 2, 1],\n",
    "            ],\n",
    "            [\n",
    "                [0, 1, 1, 0, 0],\n",
    "                [0, 0, 1, 2, 0],\n",
    "                [2, 0, 1, 1, 2],\n",
    "                [1, 1, 2, 1, 2],\n",
    "                [0, 2, 1, 0, 1],\n",
    "            ],\n",
    "        ],\n",
    "    ]\n",
    ")\n",
    "\n",
    "the_image = np.pad(img, ((0, 0), (0, 0), (1, 1), (1, 1)))\n",
    "\n",
    "\n",
    "the_image.shape"
   ],
   "metadata": {
    "collapsed": false
   }
  },
  {
   "cell_type": "code",
   "execution_count": 5,
   "outputs": [
    {
     "data": {
      "text/plain": "(2, 3, 3, 3)"
     },
     "execution_count": 5,
     "metadata": {},
     "output_type": "execute_result"
    }
   ],
   "source": [
    "weights = np.asarray(\n",
    "    [\n",
    "        [\n",
    "            [[1, 0, 0], [0, 0, -1], [0, 0, -1]],\n",
    "            [[1, 1, 0], [-1, 1, -1], [1, 1, 1]],\n",
    "            [[0, -1, 1], [1, -1, -1], [0, -1, 1]],\n",
    "        ],\n",
    "        [\n",
    "            [[0, -1, 1], [0, 0, -1], [1, 0, -1]],\n",
    "            [[1, 1, -1], [0, 0, 0], [-1, 0, -1]],\n",
    "            [[0, 0, 1], [0, 0, -1], [0, 1, -1]],\n",
    "        ],\n",
    "    ]\n",
    ")\n",
    "\n",
    "weights.shape"
   ],
   "metadata": {
    "collapsed": false
   }
  },
  {
   "cell_type": "code",
   "execution_count": 6,
   "outputs": [],
   "source": [
    "import torch\n",
    "\n",
    "conv = torch.nn.Conv2d(\n",
    "    in_channels=3,\n",
    "    out_channels=2,\n",
    "    kernel_size=3,\n",
    "    bias=False,\n",
    "    stride=1,\n",
    "    padding_mode=\"zeros\",\n",
    "    padding=1,\n",
    ")"
   ],
   "metadata": {
    "collapsed": false
   }
  },
  {
   "cell_type": "code",
   "execution_count": 7,
   "outputs": [],
   "source": [
    "# conv.forward(torch.from_numpy(the_image).float())"
   ],
   "metadata": {
    "collapsed": false
   }
  },
  {
   "cell_type": "code",
   "execution_count": 8,
   "outputs": [],
   "source": [
    "x_tensor = torch.from_numpy(the_image.astype(np.float32))\n",
    "x_tensor.requires_grad = True\n",
    "conv.weight = torch.nn.Parameter(torch.from_numpy(weights.astype(np.float32)))"
   ],
   "metadata": {
    "collapsed": false
   }
  },
  {
   "cell_type": "code",
   "execution_count": 9,
   "outputs": [
    {
     "data": {
      "text/plain": "tensor([[[[ 0.,  2.,  4.,  3.,  3.,  2.,  0.],\n          [-6.,  0., -1.,  4.,  3.,  1.,  1.],\n          [ 0.,  3.,  9., -2.,  4.,  3.,  1.],\n          [-5.,  2., 11.,  3.,  1.,  4.,  2.],\n          [-2.,  1.,  4.,  1.,  5.,  1.,  6.],\n          [ 0., -3.,  4.,  0.,  5., -1.,  0.],\n          [ 0.,  3.,  2.,  3.,  4.,  2.,  2.]],\n\n         [[-4., -4., -1.,  0., -1., -2.,  0.],\n          [-4., -5., -2., -5.,  0., -2.,  0.],\n          [-8.,  2., -4., -6., -2.,  6., -1.],\n          [-7., -6., -2., -5., -3.,  3.,  1.],\n          [-2., -9.,  2.,  2., -4.,  0.,  2.],\n          [ 1., -5.,  2.,  4.,  3.,  2.,  0.],\n          [-1.,  3.,  3., -1.,  3.,  2.,  1.]]],\n\n\n        [[[ 0.,  2.,  4.,  3.,  3.,  2.,  0.],\n          [-6.,  0., -1.,  4.,  3.,  1.,  1.],\n          [ 0.,  3.,  9., -2.,  4.,  3.,  1.],\n          [-5.,  2., 11.,  3.,  1.,  4.,  2.],\n          [-2.,  1.,  4.,  1.,  5.,  1.,  6.],\n          [ 0., -3.,  4.,  0.,  5., -1.,  0.],\n          [ 0.,  3.,  2.,  3.,  4.,  2.,  2.]],\n\n         [[-4., -4., -1.,  0., -1., -2.,  0.],\n          [-4., -5., -2., -5.,  0., -2.,  0.],\n          [-8.,  2., -4., -6., -2.,  6., -1.],\n          [-7., -6., -2., -5., -3.,  3.,  1.],\n          [-2., -9.,  2.,  2., -4.,  0.,  2.],\n          [ 1., -5.,  2.,  4.,  3.,  2.,  0.],\n          [-1.,  3.,  3., -1.,  3.,  2.,  1.]]]],\n       grad_fn=<ConvolutionBackward0>)"
     },
     "execution_count": 9,
     "metadata": {},
     "output_type": "execute_result"
    }
   ],
   "source": [
    "out_torch = conv.forward(x_tensor)\n",
    "out_torch"
   ],
   "metadata": {
    "collapsed": false
   }
  },
  {
   "cell_type": "code",
   "execution_count": 10,
   "outputs": [],
   "source": [
    "output = np.zeros((2, 2, 7, 7))\n",
    "ww = np.einsum(\"oifg -> iofg\", weights).astype(np.float32)\n",
    "\n",
    "the_image2 = np.pad(the_image, ((0, 0), (0, 0), (1, 1), (1, 1)), constant_values=0)\n",
    "\n",
    "# for b in range(the_image.shape[0]):\n",
    "for ot in range(2):\n",
    "    for h in range(output.shape[2]):\n",
    "        for w in range(output.shape[3]):\n",
    "            output[:, ot, h, w] = np.sum(\n",
    "                the_image2[:, :, h : h + 3, w : w + 3] * ww[:, ot], axis=(1, 2, 3)\n",
    "            )"
   ],
   "metadata": {
    "collapsed": false
   }
  },
  {
   "cell_type": "code",
   "execution_count": 11,
   "outputs": [
    {
     "data": {
      "text/plain": "array([[[[ 0.,  2.,  4.,  3.,  3.,  2.,  0.],\n         [-6.,  0., -1.,  4.,  3.,  1.,  1.],\n         [ 0.,  3.,  9., -2.,  4.,  3.,  1.],\n         [-5.,  2., 11.,  3.,  1.,  4.,  2.],\n         [-2.,  1.,  4.,  1.,  5.,  1.,  6.],\n         [ 0., -3.,  4.,  0.,  5., -1.,  0.],\n         [ 0.,  3.,  2.,  3.,  4.,  2.,  2.]],\n\n        [[-4., -4., -1.,  0., -1., -2.,  0.],\n         [-4., -5., -2., -5.,  0., -2.,  0.],\n         [-8.,  2., -4., -6., -2.,  6., -1.],\n         [-7., -6., -2., -5., -3.,  3.,  1.],\n         [-2., -9.,  2.,  2., -4.,  0.,  2.],\n         [ 1., -5.,  2.,  4.,  3.,  2.,  0.],\n         [-1.,  3.,  3., -1.,  3.,  2.,  1.]]],\n\n\n       [[[ 0.,  2.,  4.,  3.,  3.,  2.,  0.],\n         [-6.,  0., -1.,  4.,  3.,  1.,  1.],\n         [ 0.,  3.,  9., -2.,  4.,  3.,  1.],\n         [-5.,  2., 11.,  3.,  1.,  4.,  2.],\n         [-2.,  1.,  4.,  1.,  5.,  1.,  6.],\n         [ 0., -3.,  4.,  0.,  5., -1.,  0.],\n         [ 0.,  3.,  2.,  3.,  4.,  2.,  2.]],\n\n        [[-4., -4., -1.,  0., -1., -2.,  0.],\n         [-4., -5., -2., -5.,  0., -2.,  0.],\n         [-8.,  2., -4., -6., -2.,  6., -1.],\n         [-7., -6., -2., -5., -3.,  3.,  1.],\n         [-2., -9.,  2.,  2., -4.,  0.,  2.],\n         [ 1., -5.,  2.,  4.,  3.,  2.,  0.],\n         [-1.,  3.,  3., -1.,  3.,  2.,  1.]]]])"
     },
     "execution_count": 11,
     "metadata": {},
     "output_type": "execute_result"
    }
   ],
   "source": [
    "output"
   ],
   "metadata": {
    "collapsed": false
   }
  },
  {
   "cell_type": "code",
   "execution_count": 12,
   "outputs": [
    {
     "data": {
      "text/plain": "tensor(70., grad_fn=<SumBackward0>)"
     },
     "execution_count": 12,
     "metadata": {},
     "output_type": "execute_result"
    }
   ],
   "source": [
    "loss = out_torch.sum()\n",
    "loss.backward()\n",
    "loss"
   ],
   "metadata": {
    "collapsed": false
   }
  },
  {
   "cell_type": "code",
   "execution_count": 13,
   "outputs": [
    {
     "data": {
      "text/plain": "tensor([[[[ 0., -1., -1., -1., -1., -1., -2.],\n          [ 1., -2., -2., -2., -2., -2., -4.],\n          [ 1., -2., -2., -2., -2., -2., -4.],\n          [ 1., -2., -2., -2., -2., -2., -4.],\n          [ 1., -2., -2., -2., -2., -2., -4.],\n          [ 1., -2., -2., -2., -2., -2., -4.],\n          [ 1., -3., -3., -3., -3., -3., -4.]],\n\n         [[ 4.,  2.,  2.,  2.,  2.,  2.,  1.],\n          [ 5.,  3.,  3.,  3.,  3.,  3.,  2.],\n          [ 5.,  3.,  3.,  3.,  3.,  3.,  2.],\n          [ 5.,  3.,  3.,  3.,  3.,  3.,  2.],\n          [ 5.,  3.,  3.,  3.,  3.,  3.,  2.],\n          [ 5.,  3.,  3.,  3.,  3.,  3.,  2.],\n          [ 1.,  0.,  0.,  0.,  0.,  0.,  1.]],\n\n         [[-1., -1., -1., -1., -1., -1., -2.],\n          [-1., -1., -1., -1., -1., -1., -2.],\n          [-1., -1., -1., -1., -1., -1., -2.],\n          [-1., -1., -1., -1., -1., -1., -2.],\n          [-1., -1., -1., -1., -1., -1., -2.],\n          [-1., -1., -1., -1., -1., -1., -2.],\n          [ 0., -2., -2., -2., -2., -2., -3.]]],\n\n\n        [[[ 0., -1., -1., -1., -1., -1., -2.],\n          [ 1., -2., -2., -2., -2., -2., -4.],\n          [ 1., -2., -2., -2., -2., -2., -4.],\n          [ 1., -2., -2., -2., -2., -2., -4.],\n          [ 1., -2., -2., -2., -2., -2., -4.],\n          [ 1., -2., -2., -2., -2., -2., -4.],\n          [ 1., -3., -3., -3., -3., -3., -4.]],\n\n         [[ 4.,  2.,  2.,  2.,  2.,  2.,  1.],\n          [ 5.,  3.,  3.,  3.,  3.,  3.,  2.],\n          [ 5.,  3.,  3.,  3.,  3.,  3.,  2.],\n          [ 5.,  3.,  3.,  3.,  3.,  3.,  2.],\n          [ 5.,  3.,  3.,  3.,  3.,  3.,  2.],\n          [ 5.,  3.,  3.,  3.,  3.,  3.,  2.],\n          [ 1.,  0.,  0.,  0.,  0.,  0.,  1.]],\n\n         [[-1., -1., -1., -1., -1., -1., -2.],\n          [-1., -1., -1., -1., -1., -1., -2.],\n          [-1., -1., -1., -1., -1., -1., -2.],\n          [-1., -1., -1., -1., -1., -1., -2.],\n          [-1., -1., -1., -1., -1., -1., -2.],\n          [-1., -1., -1., -1., -1., -1., -2.],\n          [ 0., -2., -2., -2., -2., -2., -3.]]]])"
     },
     "execution_count": 13,
     "metadata": {},
     "output_type": "execute_result"
    }
   ],
   "source": [
    "x_tensor.grad"
   ],
   "metadata": {
    "collapsed": false
   }
  },
  {
   "cell_type": "code",
   "execution_count": 14,
   "outputs": [
    {
     "data": {
      "text/plain": "(2, 3, 7, 7)"
     },
     "execution_count": 14,
     "metadata": {},
     "output_type": "execute_result"
    }
   ],
   "source": [
    "the_image.shape"
   ],
   "metadata": {
    "collapsed": false
   }
  },
  {
   "cell_type": "code",
   "execution_count": 15,
   "outputs": [
    {
     "ename": "NameError",
     "evalue": "name 'error' is not defined",
     "output_type": "error",
     "traceback": [
      "\u001b[0;31m---------------------------------------------------------------------------\u001b[0m",
      "\u001b[0;31mNameError\u001b[0m                                 Traceback (most recent call last)",
      "Cell \u001b[0;32mIn[15], line 1\u001b[0m\n\u001b[0;32m----> 1\u001b[0m \u001b[43merror\u001b[49m\u001b[38;5;241m.\u001b[39mshape\n",
      "\u001b[0;31mNameError\u001b[0m: name 'error' is not defined"
     ]
    }
   ],
   "source": [
    "error.shape"
   ],
   "metadata": {
    "collapsed": false
   }
  },
  {
   "cell_type": "code",
   "execution_count": null,
   "outputs": [],
   "source": [
    "error"
   ],
   "metadata": {
    "collapsed": false
   }
  },
  {
   "cell_type": "code",
   "execution_count": null,
   "outputs": [],
   "source": [
    "da = np.zeros_like(the_image)\n",
    "da"
   ],
   "metadata": {
    "collapsed": false
   }
  },
  {
   "cell_type": "code",
   "execution_count": null,
   "outputs": [],
   "source": [
    "output.shape"
   ],
   "metadata": {
    "collapsed": false
   }
  },
  {
   "cell_type": "code",
   "execution_count": null,
   "outputs": [],
   "source": [
    "da = np.zeros_like(the_image).astype(np.float32)\n",
    "error = np.ones_like(the_image)\n",
    "error_padded = np.pad(error, ((0, 0), (0, 0), (1, 1), (1, 1)), constant_values=0)\n",
    "\n",
    "for b in range(2):\n",
    "    for i in range(3):\n",
    "        for o in range(2):\n",
    "            for h in range(7):\n",
    "                for w in range(7):\n",
    "                    da[b, i, h, w] += np.sum(\n",
    "                        ww[i, o] * error_padded[b, o, h : h + 3, w : w + 3]\n",
    "                    )"
   ],
   "metadata": {
    "collapsed": false
   }
  },
  {
   "cell_type": "code",
   "execution_count": null,
   "outputs": [],
   "source": [
    "da"
   ],
   "metadata": {
    "collapsed": false
   }
  },
  {
   "cell_type": "code",
   "execution_count": null,
   "outputs": [],
   "source": [
    "conv.weight.grad"
   ],
   "metadata": {
    "collapsed": false
   }
  },
  {
   "cell_type": "code",
   "execution_count": 98,
   "outputs": [
    {
     "data": {
      "text/plain": "array([[[[0., 0., 0., 0., 0.],\n         [0., 0., 0., 0., 0.],\n         [0., 0., 0., 0., 0.],\n         [0., 0., 0., 0., 0.],\n         [0., 0., 0., 0., 0.],\n         [0., 0., 0., 0., 0.]]]], dtype=float32)"
     },
     "execution_count": 98,
     "metadata": {},
     "output_type": "execute_result"
    }
   ],
   "source": [
    "da = np.zeros(shape=(1, 1, 6, 5)).astype(np.float32)\n",
    "da"
   ],
   "metadata": {
    "collapsed": false
   }
  },
  {
   "cell_type": "code",
   "execution_count": 104,
   "outputs": [
    {
     "data": {
      "text/plain": "(1, 1, 6, 5)"
     },
     "execution_count": 104,
     "metadata": {},
     "output_type": "execute_result"
    }
   ],
   "source": [
    "da.shape"
   ],
   "metadata": {
    "collapsed": false
   }
  },
  {
   "cell_type": "code",
   "execution_count": 99,
   "outputs": [
    {
     "data": {
      "text/plain": "array([[[[0., 0., 0., 0., 0.],\n         [0., 1., 1., 1., 0.],\n         [0., 1., 1., 1., 0.],\n         [0., 1., 1., 1., 0.],\n         [0., 1., 1., 1., 0.],\n         [0., 0., 0., 0., 0.]]]])"
     },
     "execution_count": 99,
     "metadata": {},
     "output_type": "execute_result"
    }
   ],
   "source": [
    "error = np.asarray(\n",
    "    [\n",
    "        [\n",
    "            [\n",
    "                [0.0, 0, 0, 0, 0.0],\n",
    "                [0.0, 1, 1, 1, 0.0],\n",
    "                [0.0, 1, 1, 1, 0.0],\n",
    "                [0.0, 1, 1, 1, 0.0],\n",
    "                [0.0, 1, 1, 1, 0.0],\n",
    "                [0.0, 0, 0, 0, 0.0],\n",
    "            ]\n",
    "        ]\n",
    "    ]\n",
    ")\n",
    "error"
   ],
   "metadata": {
    "collapsed": false
   }
  },
  {
   "cell_type": "code",
   "execution_count": 100,
   "outputs": [
    {
     "data": {
      "text/plain": "array([[-1,  0,  1],\n       [-2,  0,  2],\n       [-1,  0,  1]])"
     },
     "execution_count": 100,
     "metadata": {},
     "output_type": "execute_result"
    }
   ],
   "source": [
    "filter = np.asarray([[-1, 0, 1], [-2, 0, 2], [-1, 0, 1]])\n",
    "filter"
   ],
   "metadata": {
    "collapsed": false
   }
  },
  {
   "cell_type": "code",
   "execution_count": 101,
   "outputs": [
    {
     "data": {
      "text/plain": "1"
     },
     "execution_count": 101,
     "metadata": {},
     "output_type": "execute_result"
    }
   ],
   "source": [
    "pad = (da.shape[2] - error.shape[2]) // 2 + 1\n",
    "pad"
   ],
   "metadata": {
    "collapsed": false
   }
  },
  {
   "cell_type": "code",
   "execution_count": 102,
   "outputs": [
    {
     "name": "stdout",
     "output_type": "stream",
     "text": [
      "1\n"
     ]
    }
   ],
   "source": [
    "print(pad)\n",
    "error_padded = np.pad(\n",
    "    error, ((0, 0), (0, 0), (pad, pad), (pad, pad)), constant_values=0\n",
    ")\n",
    "\n",
    "for i in range(1):\n",
    "    for o in range(1):\n",
    "        for h in range(6):\n",
    "            for w in range(5):\n",
    "                da[:, i, h, w] += np.sum(\n",
    "                    filter * error_padded[:, o, h : h + 3, w : w + 3]\n",
    "                )"
   ],
   "metadata": {
    "collapsed": false
   }
  },
  {
   "cell_type": "code",
   "execution_count": 103,
   "outputs": [
    {
     "data": {
      "text/plain": "array([[[[ 1.,  1.,  0., -1., -1.],\n         [ 3.,  3.,  0., -3., -3.],\n         [ 4.,  4.,  0., -4., -4.],\n         [ 4.,  4.,  0., -4., -4.],\n         [ 3.,  3.,  0., -3., -3.],\n         [ 1.,  1.,  0., -1., -1.]]]], dtype=float32)"
     },
     "execution_count": 103,
     "metadata": {},
     "output_type": "execute_result"
    }
   ],
   "source": [
    "da"
   ],
   "metadata": {
    "collapsed": false
   }
  },
  {
   "cell_type": "code",
   "execution_count": 39,
   "outputs": [],
   "source": [
    "conv2d = Conv2D((3, 0, 0), 2, 3, 1, 0)\n",
    "conv2d.weights = weights"
   ],
   "metadata": {
    "collapsed": false
   }
  },
  {
   "cell_type": "code",
   "execution_count": null,
   "outputs": [],
   "source": [
    "weights.shape"
   ],
   "metadata": {
    "collapsed": false
   }
  },
  {
   "cell_type": "code",
   "execution_count": null,
   "outputs": [],
   "source": [
    "conv2d.weights = np.einsum(\"oifg -> iofg\", weights).astype(np.float32)"
   ],
   "metadata": {
    "collapsed": false
   }
  },
  {
   "cell_type": "code",
   "execution_count": null,
   "outputs": [],
   "source": [
    "conv2d.weights"
   ],
   "metadata": {
    "collapsed": false
   }
  },
  {
   "cell_type": "code",
   "execution_count": null,
   "outputs": [],
   "source": [
    "out = conv2d.forward(the_image)\n",
    "out"
   ],
   "metadata": {
    "collapsed": false
   }
  },
  {
   "cell_type": "code",
   "execution_count": null,
   "outputs": [],
   "source": [
    "conv2d.backward(np.ones_like(out).astype(np.float32), 0.1)"
   ],
   "metadata": {
    "collapsed": false
   }
  },
  {
   "cell_type": "code",
   "execution_count": null,
   "outputs": [],
   "source": [
    "out.shape"
   ],
   "metadata": {
    "collapsed": false
   }
  },
  {
   "cell_type": "code",
   "execution_count": null,
   "outputs": [],
   "source": [
    "padded_out = np.pad(out, ((0, 0), (0, 0), (1, 1), (1, 1))).astype(np.float32)\n",
    "dpo = np.zeros_like(the_image).astype(np.float32)"
   ],
   "metadata": {
    "collapsed": false
   }
  },
  {
   "cell_type": "code",
   "execution_count": null,
   "outputs": [],
   "source": [
    "dpo.shape"
   ],
   "metadata": {
    "collapsed": false
   }
  },
  {
   "cell_type": "code",
   "execution_count": null,
   "outputs": [],
   "source": [
    "weights.shape"
   ],
   "metadata": {
    "collapsed": false
   }
  },
  {
   "cell_type": "code",
   "execution_count": null,
   "outputs": [],
   "source": [
    "ttt = np.ones_like(out)\n",
    "tew = np.sum(ttt, axis=(0, 2, 3))\n",
    "tew"
   ],
   "metadata": {
    "collapsed": false
   }
  },
  {
   "cell_type": "code",
   "execution_count": null,
   "outputs": [],
   "source": [
    "padded_out = np.pad(out, ((0, 0), (0, 0), (1, 1), (1, 1))).astype(np.float32)\n",
    "dpo = np.zeros_like(the_image).astype(np.float32)\n",
    "\n",
    "# test_error = np.asarray([[[\n",
    "#     [0, 0, 0, 0, 0],\n",
    "#     [0, 1, 1, 1, 0],\n",
    "#     [0, 1, 1, 1, 0],\n",
    "#     [0, 1, 1, 1, 0],\n",
    "#     [0, 1, 1, 1, 0],\n",
    "#     [0, 0, 0, 0, 0]\n",
    "# ]]])\n",
    "\n",
    "# test_error = np.ones_like(test_error)\n",
    "\n",
    "# error_padded = np.pad(test_error, ((0, 0), (0, 0), (1, 1), (1, 1)))\n",
    "#\n",
    "# error_padded = np.ones_like(out)\n",
    "# pdd = (the_image.shape[2] - error_padded.shape[2]) // 2\n",
    "# print(pdd)\n",
    "# error_padded = np.pad(error_padded, ((0, 0), (0, 0), (pdd, pdd), (pdd, pdd)), constant_values=1)\n",
    "# print(error_padded)\n",
    "#\n",
    "# for i in range(3):\n",
    "#     for o in range(2):\n",
    "#         for h in range(out.shape[2]):\n",
    "#             for w in range(out.shape[3]):\n",
    "#                 dpo[:, :, h:h+3,w:w+3] += ww * error_padded[:, :, h:h+3, w:w+3]"
   ],
   "metadata": {
    "collapsed": false
   }
  },
  {
   "cell_type": "code",
   "execution_count": null,
   "outputs": [],
   "source": [
    "dpo"
   ],
   "metadata": {
    "collapsed": false
   }
  },
  {
   "cell_type": "code",
   "execution_count": null,
   "outputs": [],
   "source": [
    "x_tensor.grad"
   ],
   "metadata": {
    "collapsed": false
   }
  },
  {
   "cell_type": "code",
   "execution_count": null,
   "outputs": [],
   "source": [
    "dw = np.zeros(shape=(3, 2, 3, 3))\n",
    "error = np.ones_like(output)"
   ],
   "metadata": {
    "collapsed": false
   }
  },
  {
   "cell_type": "code",
   "execution_count": null,
   "outputs": [],
   "source": [
    "the_image.shape"
   ],
   "metadata": {
    "collapsed": false
   }
  },
  {
   "cell_type": "code",
   "execution_count": null,
   "outputs": [],
   "source": [
    "dw.shape"
   ],
   "metadata": {
    "collapsed": false
   }
  },
  {
   "cell_type": "code",
   "execution_count": null,
   "outputs": [],
   "source": [
    "for i in range(3):\n",
    "    for o in range(2):\n",
    "        for h in range(dw.shape[2]):\n",
    "            for w in range(dw.shape[3]):\n",
    "                dw[i, o, h, w] = np.sum(\n",
    "                    the_image[:, i, h : h + 5, w : w + 5] * error[:, o]\n",
    "                )"
   ],
   "metadata": {
    "collapsed": false
   }
  },
  {
   "cell_type": "code",
   "execution_count": null,
   "outputs": [],
   "source": [
    "dw"
   ],
   "metadata": {
    "collapsed": false
   }
  },
  {
   "cell_type": "code",
   "execution_count": null,
   "outputs": [],
   "source": [
    "import scipy\n",
    "\n",
    "error = np.ones_like(output)\n",
    "\n",
    "dw = np.zeros_like(conv2d.weights)\n",
    "\n",
    "for b in range(2):\n",
    "    for i in range(3):\n",
    "        for o in range(2):\n",
    "            dw[i, o] += scipy.signal.correlate2d(\n",
    "                the_image[b][i], error[b][o], mode=\"valid\"\n",
    "            )"
   ],
   "metadata": {
    "collapsed": false
   }
  },
  {
   "cell_type": "code",
   "execution_count": null,
   "outputs": [],
   "source": [
    "dw"
   ],
   "metadata": {
    "collapsed": false
   }
  },
  {
   "cell_type": "code",
   "execution_count": null,
   "outputs": [],
   "source": [
    "conv.weight.grad"
   ],
   "metadata": {
    "collapsed": false
   }
  },
  {
   "cell_type": "code",
   "execution_count": null,
   "outputs": [],
   "source": [
    "print(error_padded.shape)"
   ],
   "metadata": {
    "collapsed": false
   }
  },
  {
   "cell_type": "code",
   "execution_count": null,
   "outputs": [],
   "source": [
    "the_image.shape"
   ],
   "metadata": {
    "collapsed": false
   }
  },
  {
   "cell_type": "code",
   "execution_count": null,
   "outputs": [],
   "source": [
    "dpo"
   ],
   "metadata": {
    "collapsed": false
   }
  },
  {
   "cell_type": "code",
   "execution_count": null,
   "outputs": [],
   "source": [
    "# error_conv = np.zeros_like(the_image)\n",
    "#\n",
    "# for c in range(out.shape[1]):\n",
    "#     for h in range(out.shape[2]):\n",
    "#         for w in range(out.shape[3]):\n",
    "#             error_conv[:, :, h, w] = np.sum(\n",
    "#                  weights[c, :] * error_padded[:, :, h:h+3, w:w+3]\n",
    "#             )"
   ],
   "metadata": {
    "collapsed": false
   }
  },
  {
   "cell_type": "code",
   "execution_count": null,
   "outputs": [],
   "source": [
    "error_conv"
   ],
   "metadata": {
    "collapsed": false
   }
  },
  {
   "cell_type": "code",
   "execution_count": null,
   "outputs": [],
   "source": [
    "# dw = np.zeros_like(conv2d.weights).astype(np.float32)\n",
    "# a_prev = np.pad(the_image, ((0,0), (0, 0), (1,1), (1,1))).astype(np.float32)\n",
    "# err = np.ones_like(out)\n",
    "#\n",
    "# # for b in range(out.shape[0]):\n",
    "# for i in range(dw.shape[0]):\n",
    "#     for f in range(dw.shape[1]):\n",
    "#         for h in range(dw.shape[2]):\n",
    "#             for w in range(dw.shape[3]):\n",
    "#                 dw[i, f] += a_prev[:, i, h:h+3, w:w+3]\n",
    "#\n",
    "# dw"
   ],
   "metadata": {
    "collapsed": false
   }
  },
  {
   "cell_type": "code",
   "execution_count": null,
   "outputs": [],
   "source": [
    "import scipy\n",
    "\n",
    "dw = np.zeros_like(weights).astype(np.float32)\n",
    "a_prev = np.pad(the_image, ((0, 0), (0, 0), (1, 1), (1, 1))).astype(np.float32)\n",
    "err = np.ones_like(out)\n",
    "\n",
    "for b in range(the_image.shape[0]):\n",
    "    for o in range(dw.shape[0]):\n",
    "        for i in range(dw.shape[1]):\n",
    "            dw[o, i] += scipy.signal.correlate2d(\n",
    "                the_image[b][i], err[b][o], mode=\"valid\"\n",
    "            )\n",
    "\n",
    "dw"
   ],
   "metadata": {
    "collapsed": false
   }
  },
  {
   "cell_type": "code",
   "execution_count": null,
   "outputs": [],
   "source": [
    "dw = np.zeros_like(weights).astype(np.float32)\n",
    "a_prev = np.pad(the_image, ((0, 0), (0, 0), (1, 1), (1, 1))).astype(np.float32)\n",
    "err = np.ones_like(out)\n",
    "\n",
    "for b in range(1):\n",
    "    for c in range(2):\n",
    "        for h in range(dw.shape[2]):\n",
    "            for w in range(dw.shape[3]):\n",
    "                dw[c] = a_prev[b, :, h : h + 3, w : w + 3] * err[b, c, h, w]"
   ],
   "metadata": {
    "collapsed": false
   }
  },
  {
   "cell_type": "code",
   "execution_count": null,
   "outputs": [],
   "source": [
    "dw"
   ],
   "metadata": {
    "collapsed": false
   }
  },
  {
   "cell_type": "code",
   "execution_count": null,
   "outputs": [],
   "source": [
    "the_image.shape"
   ],
   "metadata": {
    "collapsed": false
   }
  },
  {
   "cell_type": "code",
   "execution_count": null,
   "outputs": [],
   "source": [
    "import scipy\n",
    "\n",
    "scipy.signal.correlate2d(the_image[0][2], err[0][0], mode=\"valid\")"
   ],
   "metadata": {
    "collapsed": false
   }
  },
  {
   "cell_type": "code",
   "execution_count": null,
   "outputs": [],
   "source": [
    "# for c in range(out.shape[1]):\n",
    "#     for h in range(out.shape[2]):\n",
    "#         for w in range(out.shape[3]):\n",
    "#             dw[:, c] += a_prev[:, :, h:h+3, w:w+3] * err[:, c, h, w]"
   ],
   "metadata": {
    "collapsed": false
   }
  },
  {
   "cell_type": "code",
   "execution_count": null,
   "outputs": [],
   "source": [
    "dw2 = np.zeros_like(conv2d.weights).astype(np.float32)"
   ],
   "metadata": {
    "collapsed": false
   }
  },
  {
   "cell_type": "code",
   "execution_count": null,
   "outputs": [],
   "source": [
    "conv.weight.grad"
   ],
   "metadata": {
    "collapsed": false
   }
  },
  {
   "cell_type": "code",
   "execution_count": null,
   "outputs": [],
   "source": [
    "dw.shape"
   ],
   "metadata": {
    "collapsed": false
   }
  },
  {
   "cell_type": "code",
   "execution_count": null,
   "outputs": [],
   "source": [
    "raise ValueError"
   ],
   "metadata": {
    "collapsed": false
   }
  },
  {
   "cell_type": "code",
   "execution_count": null,
   "outputs": [],
   "source": [
    "# # for b in range(output.shape[0]):\n",
    "# for f in range(2):\n",
    "#     for h in range(output.shape[2]):\n",
    "#         for w in range(output.shape[3]):\n",
    "#             output[:, f, h, w] = np.sum(the_image[:, :, h * 2:h * 2+3, w * 2:w * 2+3] * weights[f, :]) + bias[f]"
   ],
   "metadata": {
    "collapsed": false
   }
  },
  {
   "cell_type": "code",
   "execution_count": null,
   "outputs": [],
   "source": [
    "# output"
   ],
   "metadata": {
    "collapsed": false
   }
  },
  {
   "cell_type": "code",
   "execution_count": null,
   "outputs": [],
   "source": [
    "from src.layers import Conv2D\n",
    "\n",
    "conv = Conv2D(2, 3, 3, 2, 1)"
   ],
   "metadata": {
    "collapsed": false
   }
  },
  {
   "cell_type": "code",
   "execution_count": null,
   "outputs": [],
   "source": [
    "conv.weights = weights.astype(np.float32)"
   ],
   "metadata": {
    "collapsed": false
   }
  },
  {
   "cell_type": "code",
   "execution_count": null,
   "outputs": [],
   "source": [
    "conv.bias = np.asarray([[1, 0]]).astype(np.float32)"
   ],
   "metadata": {
    "collapsed": false
   }
  },
  {
   "cell_type": "code",
   "execution_count": null,
   "outputs": [],
   "source": [
    "out_c = conv.forward(img)\n",
    "# out_c"
   ],
   "metadata": {
    "collapsed": false
   }
  },
  {
   "cell_type": "code",
   "execution_count": null,
   "outputs": [],
   "source": [
    "conv.backward(out_c, 0.1)"
   ],
   "metadata": {
    "collapsed": false
   }
  },
  {
   "cell_type": "code",
   "execution_count": null,
   "outputs": [],
   "source": [
    "conv.weights"
   ],
   "metadata": {
    "collapsed": false
   }
  },
  {
   "cell_type": "code",
   "execution_count": null,
   "outputs": [],
   "source": [
    "test_error = np.asarray(\n",
    "    [\n",
    "        [\n",
    "            [0, 0, 0, 0, 0],\n",
    "            [0, 1, 1, 1, 0],\n",
    "            [0, 1, 1, 1, 0],\n",
    "            [0, 1, 1, 1, 0],\n",
    "            [0, 1, 1, 1, 0],\n",
    "            [0, 0, 0, 0, 0],\n",
    "        ]\n",
    "    ]\n",
    ")\n",
    "print(test_error.shape)\n",
    "\n",
    "test_error_padded = np.pad(test_error[0], 1)\n",
    "test_error2 = np.expand_dims(test_error_padded, (0, 1))"
   ],
   "metadata": {
    "collapsed": false
   }
  },
  {
   "cell_type": "code",
   "execution_count": null,
   "outputs": [],
   "source": [
    "test_error2.shape"
   ],
   "metadata": {
    "collapsed": false
   }
  },
  {
   "cell_type": "code",
   "execution_count": null,
   "outputs": [],
   "source": [
    "test_error"
   ],
   "metadata": {
    "collapsed": false
   }
  },
  {
   "cell_type": "code",
   "execution_count": null,
   "outputs": [],
   "source": [
    "weig = np.asarray([[[[-1, 0, 1], [-2, 0, 2], [-1, 0, 1]]]])\n",
    "\n",
    "# ,\n",
    "# [\n",
    "#     [1, 0, -1],\n",
    "#     [2, 0, -2],\n",
    "#     [1, 0, -1]\n",
    "# ]]"
   ],
   "metadata": {
    "collapsed": false
   }
  },
  {
   "cell_type": "code",
   "execution_count": null,
   "outputs": [],
   "source": [
    "weig.shape"
   ],
   "metadata": {
    "collapsed": false
   }
  },
  {
   "cell_type": "code",
   "execution_count": null,
   "outputs": [],
   "source": [
    "test_img = np.asarray(\n",
    "    [\n",
    "        [\n",
    "            [\n",
    "                [1, 1, 1, 2, 3],\n",
    "                [1, 1, 1, 2, 3],\n",
    "                [1, 1, 1, 2, 3],\n",
    "                [2, 2, 2, 2, 3],\n",
    "                [3, 3, 3, 3, 3],\n",
    "                [4, 4, 4, 4, 4],\n",
    "            ]\n",
    "        ]\n",
    "    ]\n",
    ")"
   ],
   "metadata": {
    "collapsed": false
   }
  },
  {
   "cell_type": "code",
   "execution_count": null,
   "outputs": [],
   "source": [
    "conv = torch.nn.Conv2d(\n",
    "    in_channels=1,\n",
    "    out_channels=1,\n",
    "    kernel_size=3,\n",
    "    bias=False,\n",
    "    stride=1,\n",
    "    padding_mode=\"zeros\",\n",
    "    padding=0,\n",
    ")\n",
    "\n",
    "x_tensor = torch.from_numpy(test_img.astype(np.float32))\n",
    "x_tensor.requires_grad = True\n",
    "conv.weight = torch.nn.Parameter(torch.from_numpy(weig.astype(np.float32)))\n",
    "out = conv(x_tensor)"
   ],
   "metadata": {
    "collapsed": false
   }
  },
  {
   "cell_type": "code",
   "execution_count": null,
   "outputs": [],
   "source": [
    "loss = out.sum()\n",
    "loss.backward()\n",
    "\n",
    "print(conv.weight.grad)\n",
    "print(x_tensor.grad)\n",
    "print(loss)"
   ],
   "metadata": {
    "collapsed": false
   }
  },
  {
   "cell_type": "code",
   "execution_count": null,
   "outputs": [],
   "source": [
    "conv.weight"
   ],
   "metadata": {
    "collapsed": false
   }
  },
  {
   "cell_type": "code",
   "execution_count": null,
   "outputs": [],
   "source": [
    "dw = np.zeros_like(weig).astype(np.float32)\n",
    "a_prev = np.pad(test_img, ((0, 0), (0, 0), (1, 1), (1, 1))).astype(np.float32)\n",
    "\n",
    "# for b in range(out.shape[0]):\n",
    "for c in range(test_img.shape[1]):\n",
    "    for h in range(test_img.shape[2]):\n",
    "        for w in range(test_img.shape[3]):\n",
    "            dw[:, c] += a_prev[:, c, h : h + 3, w : w + 3] * 1.0"
   ],
   "metadata": {
    "collapsed": false
   }
  },
  {
   "cell_type": "code",
   "execution_count": null,
   "outputs": [],
   "source": [
    "dw"
   ],
   "metadata": {
    "collapsed": false
   }
  },
  {
   "cell_type": "code",
   "execution_count": null,
   "outputs": [],
   "source": [
    "error_conv = np.zeros((1, 1, 6, 5))\n",
    "error_conv.shape"
   ],
   "metadata": {
    "collapsed": false
   }
  },
  {
   "cell_type": "code",
   "execution_count": null,
   "outputs": [],
   "source": [
    "test_error = np.asarray(\n",
    "    [\n",
    "        [\n",
    "            [\n",
    "                [0, 0, 0, 0, 0],\n",
    "                [0, 1, 1, 1, 0],\n",
    "                [0, 1, 1, 1, 0],\n",
    "                [0, 1, 1, 1, 0],\n",
    "                [0, 1, 1, 1, 0],\n",
    "                [0, 0, 0, 0, 0],\n",
    "            ]\n",
    "        ]\n",
    "    ]\n",
    ")\n",
    "\n",
    "# test_error = test_error[:, :, 1:-1, 1:-1]\n",
    "\n",
    "da = np.zeros_like(test_img).astype(np.float32)\n",
    "a_prev = np.pad(test_error, ((0, 0), (0, 0), (1, 1), (1, 1))).astype(np.float32)\n",
    "\n",
    "# for b in range(out.shape[0]):\n",
    "# for c in range(test_img.shape[1]):\n",
    "for h in range(test_error.shape[2]):\n",
    "    for w in range(test_error.shape[3]):\n",
    "        da[:, :, h : h + 3, w : w + 3] += weig"
   ],
   "metadata": {
    "collapsed": false
   }
  },
  {
   "cell_type": "code",
   "execution_count": null,
   "outputs": [],
   "source": [
    "weig.shape"
   ],
   "metadata": {
    "collapsed": false
   }
  },
  {
   "cell_type": "code",
   "execution_count": null,
   "outputs": [],
   "source": [
    "da"
   ],
   "metadata": {
    "collapsed": false
   }
  },
  {
   "cell_type": "code",
   "execution_count": null,
   "outputs": [],
   "source": [
    "# for b in range(error_conv.shape[0]):\n",
    "# for f in range(error_conv.shape[1]):\n",
    "for h in range(error_conv.shape[2]):\n",
    "    for w in range(error_conv.shape[3]):\n",
    "        error_conv[:, :, h, w] = np.sum(test_error2[:, :, h : h + 3, w : w + 3] * weig)"
   ],
   "metadata": {
    "collapsed": false
   }
  },
  {
   "cell_type": "code",
   "execution_count": null,
   "outputs": [],
   "source": [
    "error_conv.shape"
   ],
   "metadata": {
    "collapsed": false
   }
  },
  {
   "cell_type": "code",
   "execution_count": null,
   "outputs": [],
   "source": [
    "error_conv"
   ],
   "metadata": {
    "collapsed": false
   }
  },
  {
   "cell_type": "code",
   "execution_count": null,
   "outputs": [],
   "source": [
    "import scipy"
   ],
   "metadata": {
    "collapsed": false
   }
  },
  {
   "cell_type": "code",
   "execution_count": null,
   "outputs": [],
   "source": [
    "scipy.signal.correlate2d(test_error[0][0], weig[0])"
   ],
   "metadata": {
    "collapsed": false
   }
  },
  {
   "cell_type": "code",
   "execution_count": null,
   "outputs": [],
   "source": [
    "test_error[0][0][1:-1, 1:-1] * error_conv[0][0]"
   ],
   "metadata": {
    "collapsed": false
   }
  },
  {
   "cell_type": "code",
   "execution_count": null,
   "outputs": [],
   "source": [
    "test_error2 = np.asarray(\n",
    "    [\n",
    "        [\n",
    "            [0, 0, 0, 0, 0],\n",
    "            [0, 1, 1, 1, 0],\n",
    "            [0, 1, 1, 1, 0],\n",
    "            [0, 1, 1, 1, 0],\n",
    "            [0, 1, 1, 1, 0],\n",
    "            [0, 0, 0, 0, 0],\n",
    "        ]\n",
    "    ]\n",
    ")\n",
    "\n",
    "test_error = test_error[1:-1, 1:-1]\n",
    "\n",
    "test_inp = np.asarray(\n",
    "    [\n",
    "        [\n",
    "            [1, 1, 1, 2, 3],\n",
    "            [1, 1, 1, 2, 3],\n",
    "            [1, 1, 1, 2, 3],\n",
    "            [2, 2, 2, 2, 3],\n",
    "            [3, 3, 3, 3, 3],\n",
    "            [4, 4, 4, 4, 4],\n",
    "        ],\n",
    "        [\n",
    "            [1, 1, 1, 2, 3],\n",
    "            [1, 1, 1, 2, 3],\n",
    "            [1, 1, 1, 2, 3],\n",
    "            [2, 2, 2, 2, 3],\n",
    "            [3, 3, 3, 3, 3],\n",
    "            [4, 4, 4, 4, 4],\n",
    "        ],\n",
    "    ]\n",
    ")\n",
    "\n",
    "test_weig = np.asarray(\n",
    "    [[[-1, 0, 1], [-2, 0, 2], [-1, 0, 1]], [[-1, 0, 1], [-2, 0, 2], [-1, 0, 1]]]\n",
    ")"
   ],
   "metadata": {
    "collapsed": false
   }
  },
  {
   "cell_type": "code",
   "execution_count": null,
   "outputs": [],
   "source": [
    "test_grad = np.zeros((2, 3, 3))"
   ],
   "metadata": {
    "collapsed": false
   }
  },
  {
   "cell_type": "code",
   "execution_count": null,
   "outputs": [],
   "source": [
    "# for b in range(test_grad.shape[0]):\n",
    "for h in range(test_grad.shape[1]):\n",
    "    for w in range(test_grad.shape[2]):\n",
    "        test_grad[:, h, w] = np.sum(\n",
    "            test_inp[:, h : h + test_error.shape[0], w : w + test_error.shape[1]]\n",
    "            * test_error,\n",
    "            axis=(1, 2),\n",
    "        )"
   ],
   "metadata": {
    "collapsed": false
   }
  },
  {
   "cell_type": "code",
   "execution_count": null,
   "outputs": [],
   "source": [
    "print(test_grad)"
   ],
   "metadata": {
    "collapsed": false
   }
  },
  {
   "cell_type": "code",
   "execution_count": null,
   "outputs": [],
   "source": [
    "test_error2 = np.expand_dims(test_error2, 0)"
   ],
   "metadata": {
    "collapsed": false
   }
  },
  {
   "cell_type": "code",
   "execution_count": null,
   "outputs": [],
   "source": [
    "test_error2.shape"
   ],
   "metadata": {
    "collapsed": false
   }
  },
  {
   "cell_type": "code",
   "execution_count": null,
   "outputs": [],
   "source": [
    "test_error2"
   ],
   "metadata": {
    "collapsed": false
   }
  },
  {
   "cell_type": "code",
   "execution_count": null,
   "outputs": [],
   "source": [
    "test_im_err = np.zeros((1, 1, 6, 5))"
   ],
   "metadata": {
    "collapsed": false
   }
  },
  {
   "cell_type": "code",
   "execution_count": null,
   "outputs": [],
   "source": [
    "test_weig.shape"
   ],
   "metadata": {
    "collapsed": false
   }
  },
  {
   "cell_type": "code",
   "execution_count": null,
   "outputs": [],
   "source": [
    "# for b in range(test_grad.shape[0]):\n",
    "for h in range(6):\n",
    "    for w in range(5):\n",
    "        test_im_err[:, :, h, w] = np.sum(\n",
    "            test_error2[:, :, h : h + 3, w : w + 3] * test_weig\n",
    "        )"
   ],
   "metadata": {
    "collapsed": false
   }
  },
  {
   "cell_type": "code",
   "execution_count": null,
   "outputs": [],
   "source": [
    "test_im_err"
   ],
   "metadata": {
    "collapsed": false
   }
  },
  {
   "cell_type": "code",
   "execution_count": null,
   "outputs": [],
   "source": [
    "scipy.signal.correlate2d(test_error2[0][0], test_weig[0])"
   ],
   "metadata": {
    "collapsed": false
   }
  },
  {
   "cell_type": "code",
   "execution_count": null,
   "outputs": [],
   "source": [],
   "metadata": {
    "collapsed": false
   }
  }
 ],
 "metadata": {
  "kernelspec": {
   "display_name": "Python 3",
   "language": "python",
   "name": "python3"
  },
  "language_info": {
   "codemirror_mode": {
    "name": "ipython",
    "version": 2
   },
   "file_extension": ".py",
   "mimetype": "text/x-python",
   "name": "python",
   "nbconvert_exporter": "python",
   "pygments_lexer": "ipython2",
   "version": "2.7.6"
  }
 },
 "nbformat": 4,
 "nbformat_minor": 0
}
