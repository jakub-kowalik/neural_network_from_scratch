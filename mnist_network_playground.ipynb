{
 "cells": [
  {
   "cell_type": "code",
   "execution_count": 1,
   "outputs": [],
   "source": [
    "from src.models import Sequential\n",
    "from src.layers import *\n",
    "from src.activation_functions import *\n",
    "from src.loss_functions import *\n",
    "\n",
    "import matplotlib.pyplot as plt\n",
    "import numpy as np\n",
    "from sklearn import datasets\n",
    "from sklearn.metrics import confusion_matrix, ConfusionMatrixDisplay\n",
    "from sklearn.metrics import f1_score, balanced_accuracy_score\n",
    "from sklearn.model_selection import train_test_split\n",
    "from sklearn.preprocessing import OneHotEncoder"
   ],
   "metadata": {
    "collapsed": false
   }
  },
  {
   "cell_type": "code",
   "execution_count": 2,
   "outputs": [],
   "source": [
    "from tensorflow.keras.datasets.mnist import load_data as load_data_MNIST\n",
    "\n",
    "(x_train, y_train), (x_test, y_test) = load_data_MNIST() # MNIST"
   ],
   "metadata": {
    "collapsed": false
   }
  },
  {
   "cell_type": "code",
   "execution_count": 3,
   "outputs": [],
   "source": [
    "x_train = x_train / 255\n",
    "x_test = x_test / 255"
   ],
   "metadata": {
    "collapsed": false
   }
  },
  {
   "cell_type": "code",
   "execution_count": 4,
   "outputs": [],
   "source": [
    "x_train_expanded = np.expand_dims(x_train, 1)\n",
    "x_test_expanded = np.expand_dims(x_test, 1)"
   ],
   "metadata": {
    "collapsed": false
   }
  },
  {
   "cell_type": "code",
   "execution_count": 5,
   "outputs": [],
   "source": [
    "le = OneHotEncoder(sparse_output=False)\n",
    "\n",
    "y_train_encoded = le.fit_transform(y_train.reshape(-1, 1))\n",
    "y_test_encoded = le.fit_transform(y_test.reshape(-1, 1))"
   ],
   "metadata": {
    "collapsed": false
   }
  },
  {
   "cell_type": "code",
   "execution_count": 6,
   "outputs": [
    {
     "data": {
      "text/plain": "<matplotlib.image.AxesImage at 0x2974a6d4c10>"
     },
     "execution_count": 6,
     "metadata": {},
     "output_type": "execute_result"
    },
    {
     "data": {
      "text/plain": "<Figure size 640x480 with 1 Axes>",
      "image/png": "[encoded data removed]"
     },
     "metadata": {},
     "output_type": "display_data"
    }
   ],
   "source": [
    "plt.imshow(np.einsum(\"chw -> hwc\", x_train_expanded[0]))"
   ],
   "metadata": {
    "collapsed": false
   }
  },
  {
   "cell_type": "code",
   "execution_count": 7,
   "outputs": [],
   "source": [
    "model = Sequential(epochs=20, learning_rate=0.001, loss_function=CrossEntropy(), batch_size=1)"
   ],
   "metadata": {
    "collapsed": false
   }
  },
  {
   "cell_type": "code",
   "execution_count": 8,
   "outputs": [],
   "source": [
    "model.add(Conv2D(3, 3, 1, 1))\n",
    "model.add(Activation(ReLU()))\n",
    "model.add(Flatten())\n",
    "model.add(Linear(n_inputs=2352, n_outputs=10))\n",
    "model.add(Activation(Softmax()))"
   ],
   "metadata": {
    "collapsed": false
   }
  },
  {
   "cell_type": "code",
   "execution_count": null,
   "outputs": [
    {
     "name": "stderr",
     "output_type": "stream",
     "text": [
      " 25%|██▌       | 5/20 [00:42<02:07,  8.49s/it,  Loss: 1.4234112337745473]"
     ]
    }
   ],
   "source": [
    "model.train(x_train_expanded[:100], y_train_encoded[:100])"
   ],
   "metadata": {
    "collapsed": false,
    "pycharm": {
     "is_executing": true
    }
   }
  },
  {
   "cell_type": "code",
   "execution_count": null,
   "outputs": [],
   "source": [
    "y_pred = model.predict(x_test_expanded[:1000])"
   ],
   "metadata": {
    "collapsed": false,
    "pycharm": {
     "is_executing": true
    }
   }
  },
  {
   "cell_type": "code",
   "execution_count": null,
   "outputs": [],
   "source": [
    "y_pred2 = np.argmax(y_pred, axis=1)\n",
    "y_test2 = y_test[:1000]\n",
    "\n",
    "cm_model = confusion_matrix(y_test2, y_pred2)\n",
    "\n",
    "tn_model = cm_model[0][0]\n",
    "fn_model = cm_model[0][1]\n",
    "tp_model = cm_model[1][1]\n",
    "fp_model = cm_model[1][0]\n",
    "ConfusionMatrixDisplay(cm_model).plot(cmap='cubehelix')\n",
    "\n",
    "# fpr, tpr, roc_auc = roc_curve(y_test, y_pred)\n",
    "#\n",
    "# rok_model = RocCurveDisplay(fpr=fpr, tpr=tpr)\n",
    "# rok_model.plot()\n",
    "\n",
    "print(\"Czulosc:\", tp_model / (tp_model + fn_model))\n",
    "print(\"Swoistosc:\", tn_model / (tn_model + fp_model))\n",
    "print(\"Accuracy:\", (tp_model + tn_model) / (tp_model + tn_model + fp_model + fn_model))\n",
    "\n",
    "# print(\"ROC auc:\", roc_auc_score(y_test, y_pred))\n",
    "print(\"F1 score:\", f1_score(y_test2, y_pred2, average='micro'))\n",
    "print(\"BA score:\", balanced_accuracy_score(y_test2, y_pred2))"
   ],
   "metadata": {
    "collapsed": false,
    "pycharm": {
     "is_executing": true
    }
   }
  },
  {
   "cell_type": "code",
   "execution_count": null,
   "outputs": [],
   "source": [
    "# the_image = np.asarray([[[\n",
    "#     [1, 1, 1, 0, 0],\n",
    "#     [0, 1, 1, 1, 0],\n",
    "#     [0, 0, 1, 1, 1],\n",
    "#     [0, 0, 1, 1, 0],\n",
    "#     [0, 1, 1, 0, 0]\n",
    "# ]]])\n",
    "\n",
    "the_image = np.asarray([[[\n",
    "    [1, 2, 3],\n",
    "    [4, 5, 6],\n",
    "    [7, 8, 9]\n",
    "]],[[\n",
    "    [1, 2, 3],\n",
    "    [4, 5, 6],\n",
    "    [7, 8, 9]\n",
    "]],\n",
    "[[\n",
    "    [1, 2, 3],\n",
    "    [4, 5, 6],\n",
    "    [7, 8, 9]\n",
    "]]])"
   ],
   "metadata": {
    "collapsed": false,
    "pycharm": {
     "is_executing": true
    }
   }
  },
  {
   "cell_type": "code",
   "execution_count": null,
   "outputs": [],
   "source": [
    "the_image.shape"
   ],
   "metadata": {
    "collapsed": false,
    "pycharm": {
     "is_executing": true
    }
   }
  },
  {
   "cell_type": "code",
   "execution_count": null,
   "outputs": [],
   "source": [
    "the_image2 = np.repeat(the_image[0][np.newaxis, :, :, :], 6, axis=0)\n",
    "the_image2.shape"
   ],
   "metadata": {
    "collapsed": false,
    "pycharm": {
     "is_executing": true
    }
   }
  },
  {
   "cell_type": "code",
   "execution_count": null,
   "outputs": [],
   "source": [
    "batch = 3\n",
    "channels = 1\n",
    "height = 10\n",
    "width = 10\n",
    "the_image = np.random.random((batch, channels, height, width)).astype(np.float32)\n",
    "the_image"
   ],
   "metadata": {
    "collapsed": false,
    "pycharm": {
     "is_executing": true
    }
   }
  },
  {
   "cell_type": "code",
   "execution_count": null,
   "outputs": [],
   "source": [
    "my_conv = Conv2D(\n",
    "    n_filters=1,\n",
    "    filter_size=3,\n",
    "    stride=1,\n",
    "    padding=1\n",
    ")"
   ],
   "metadata": {
    "collapsed": false,
    "pycharm": {
     "is_executing": true
    }
   }
  },
  {
   "cell_type": "code",
   "execution_count": null,
   "outputs": [],
   "source": [
    "my_conv.weights = np.asarray([[[-1, -2, -1],\n",
    "                               [0, 0, 0],\n",
    "                               [1, 2, 1]]])"
   ],
   "metadata": {
    "collapsed": false,
    "pycharm": {
     "is_executing": true
    }
   }
  },
  {
   "cell_type": "code",
   "execution_count": null,
   "outputs": [],
   "source": [
    "my_conv.weights.shape"
   ],
   "metadata": {
    "collapsed": false,
    "pycharm": {
     "is_executing": true
    }
   }
  },
  {
   "cell_type": "code",
   "execution_count": null,
   "outputs": [],
   "source": [
    "my_conv.forward(the_image)"
   ],
   "metadata": {
    "collapsed": false,
    "pycharm": {
     "is_executing": true
    }
   }
  },
  {
   "cell_type": "code",
   "execution_count": null,
   "outputs": [],
   "source": [
    "my_conv.forward(the_image2).shape"
   ],
   "metadata": {
    "collapsed": false,
    "pycharm": {
     "is_executing": true
    }
   }
  },
  {
   "cell_type": "code",
   "execution_count": null,
   "outputs": [],
   "source": [
    "my_conv.forward(the_image)"
   ],
   "metadata": {
    "collapsed": false,
    "pycharm": {
     "is_executing": true
    }
   }
  },
  {
   "cell_type": "code",
   "execution_count": null,
   "outputs": [],
   "source": [
    "import tensorflow as tf"
   ],
   "metadata": {
    "collapsed": false,
    "pycharm": {
     "is_executing": true
    }
   }
  },
  {
   "cell_type": "code",
   "execution_count": null,
   "outputs": [],
   "source": [
    "random_array2 = np.einsum(\"bchw -> bhwc\", the_image)\n",
    "random_array2.shape"
   ],
   "metadata": {
    "collapsed": false,
    "pycharm": {
     "is_executing": true
    }
   }
  },
  {
   "cell_type": "code",
   "execution_count": null,
   "outputs": [],
   "source": [
    "filtr = np.asarray([[[[-1]],\n",
    "\n",
    "        [[-2]],\n",
    "\n",
    "        [[-1]]],\n",
    "\n",
    "\n",
    "       [[[0]],\n",
    "\n",
    "        [[0]],\n",
    "\n",
    "        [[0]]],\n",
    "\n",
    "\n",
    "       [[[1]],\n",
    "\n",
    "        [[2]],\n",
    "\n",
    "        [[1]]]])"
   ],
   "metadata": {
    "collapsed": false,
    "pycharm": {
     "is_executing": true
    }
   }
  },
  {
   "cell_type": "code",
   "execution_count": null,
   "outputs": [],
   "source": [
    "# random_array = np.random.random((1, 3, 10, 10))\n",
    "# random_array2 = np.einsum(\"bchw -> bhwc\", the_image)\n",
    "\n",
    "tf_conv2d = tf.nn.conv2d_transpose(\n",
    "    input=random_array2,\n",
    "    output_shape=(3, 3, 3, 1),\n",
    "    filters=filtr,\n",
    "    padding='SAME',\n",
    "    data_format='NHWC',\n",
    "    strides=1\n",
    ")\n",
    "\n",
    "print(tf_conv2d)"
   ],
   "metadata": {
    "collapsed": false,
    "pycharm": {
     "is_executing": true
    }
   }
  },
  {
   "cell_type": "code",
   "execution_count": null,
   "outputs": [],
   "source": [
    "np.einsum(\"bhwc -> bchw\", tf_conv2d)"
   ],
   "metadata": {
    "collapsed": false,
    "pycharm": {
     "is_executing": true
    }
   }
  },
  {
   "cell_type": "code",
   "execution_count": null,
   "outputs": [],
   "source": [
    "np.random.random((3, 3, 3, 1)).shape"
   ],
   "metadata": {
    "collapsed": false,
    "pycharm": {
     "is_executing": true
    }
   }
  },
  {
   "cell_type": "code",
   "execution_count": null,
   "outputs": [],
   "source": [
    "\n",
    "conv = Conv2D(1, 3, 1, 1)"
   ],
   "metadata": {
    "collapsed": false,
    "pycharm": {
     "is_executing": true
    }
   }
  },
  {
   "cell_type": "code",
   "execution_count": null,
   "outputs": [],
   "source": [
    "conv.weights"
   ],
   "metadata": {
    "collapsed": false,
    "pycharm": {
     "is_executing": true
    }
   }
  },
  {
   "cell_type": "code",
   "execution_count": null,
   "outputs": [],
   "source": [
    "# conv.forward(random_array).shape"
   ],
   "metadata": {
    "collapsed": false,
    "pycharm": {
     "is_executing": true
    }
   }
  },
  {
   "cell_type": "code",
   "execution_count": null,
   "outputs": [],
   "source": [],
   "metadata": {
    "collapsed": false,
    "pycharm": {
     "is_executing": true
    }
   }
  },
  {
   "cell_type": "code",
   "execution_count": null,
   "outputs": [],
   "source": [
    "batch = np.random.randint(1, 100)\n",
    "channels = 1\n",
    "height = np.random.randint(10, 100)\n",
    "width = height\n",
    "the_image = np.random.random((batch, channels, height, width)).astype(np.float32)\n",
    "\n",
    "print(the_image.shape)\n",
    "\n",
    "filter_size = np.random.randint(1, 10)\n",
    "filter_weights = np.random.random((\n",
    "    filter_size,\n",
    "    filter_size\n",
    "))\n",
    "\n",
    "my_conv = Conv2D(\n",
    "    n_filters=1,\n",
    "    filter_size=filter_size,\n",
    "    stride=1,\n",
    "    padding=0\n",
    ")\n",
    "\n",
    "my_conv.weights = np.expand_dims(filter_weights, 0).astype(np.float32)\n",
    "\n",
    "print(my_conv.weights.shape)\n",
    "print(np.expand_dims(filter_weights, (2, 3)).shape)\n",
    "\n",
    "tf_conv2d = tf.nn.conv2d(\n",
    "    input=np.einsum(\"bchw -> bhwc\", the_image),\n",
    "    filters=np.expand_dims(filter_weights, (2, 3)),\n",
    "    padding='VALID',\n",
    "    data_format='NHWC',\n",
    "    strides=1\n",
    ")\n",
    "print(my_conv.forward(the_image).shape)\n",
    "assert np.isclose(\n",
    "    my_conv.forward(the_image),\n",
    "    np.einsum(\"NHWC->NCHW\", tf_conv2d)\n",
    ").all()"
   ],
   "metadata": {
    "collapsed": false,
    "pycharm": {
     "is_executing": true
    }
   }
  },
  {
   "cell_type": "code",
   "execution_count": null,
   "outputs": [],
   "source": [],
   "metadata": {
    "collapsed": false,
    "pycharm": {
     "is_executing": true
    }
   }
  },
  {
   "cell_type": "code",
   "execution_count": null,
   "outputs": [],
   "source": [],
   "metadata": {
    "collapsed": false,
    "pycharm": {
     "is_executing": true
    }
   }
  }
 ],
 "metadata": {
  "kernelspec": {
   "display_name": "Python 3",
   "language": "python",
   "name": "python3"
  },
  "language_info": {
   "codemirror_mode": {
    "name": "ipython",
    "version": 2
   },
   "file_extension": ".py",
   "mimetype": "text/x-python",
   "name": "python",
   "nbconvert_exporter": "python",
   "pygments_lexer": "ipython2",
   "version": "2.7.6"
  }
 },
 "nbformat": 4,
 "nbformat_minor": 0
}
