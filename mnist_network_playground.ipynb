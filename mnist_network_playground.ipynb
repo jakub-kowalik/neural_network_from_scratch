{
 "cells": [
  {
   "cell_type": "code",
   "execution_count": 299,
   "outputs": [],
   "source": [
    "from src.models import Sequential\n",
    "from src.layers import *\n",
    "from src.activation_functions import *\n",
    "from src.loss_functions import *\n",
    "\n",
    "import matplotlib.pyplot as plt\n",
    "import numpy as np\n",
    "from sklearn import datasets\n",
    "from sklearn.metrics import confusion_matrix, ConfusionMatrixDisplay\n",
    "from sklearn.metrics import f1_score, balanced_accuracy_score, accuracy_score\n",
    "from sklearn.model_selection import train_test_split\n",
    "from sklearn.preprocessing import OneHotEncoder\n",
    "\n",
    "from sklearn.utils import shuffle as sk_shuffle"
   ],
   "metadata": {
    "collapsed": false
   }
  },
  {
   "cell_type": "code",
   "execution_count": 300,
   "outputs": [],
   "source": [
    "from tensorflow.keras.datasets.fashion_mnist import load_data as load_data_MNIST\n",
    "\n",
    "(x_train, y_train), (x_test, y_test) = load_data_MNIST() # MNIST"
   ],
   "metadata": {
    "collapsed": false
   }
  },
  {
   "cell_type": "code",
   "execution_count": 301,
   "outputs": [
    {
     "data": {
      "text/plain": "(60000, 28, 28)"
     },
     "execution_count": 301,
     "metadata": {},
     "output_type": "execute_result"
    }
   ],
   "source": [
    "x_train.shape"
   ],
   "metadata": {
    "collapsed": false
   }
  },
  {
   "cell_type": "code",
   "execution_count": 302,
   "outputs": [],
   "source": [
    "x_train, y_train = sk_shuffle(x_train, y_train)\n",
    "x_test, y_test = sk_shuffle(x_test, y_test)"
   ],
   "metadata": {
    "collapsed": false
   }
  },
  {
   "cell_type": "code",
   "execution_count": 303,
   "outputs": [],
   "source": [
    "x_train = x_train / 255\n",
    "x_test = x_test / 255"
   ],
   "metadata": {
    "collapsed": false
   }
  },
  {
   "cell_type": "code",
   "execution_count": 304,
   "outputs": [],
   "source": [
    "x_train_expanded = np.expand_dims(x_train, 1)\n",
    "x_test_expanded = np.expand_dims(x_test, 1)\n",
    "\n",
    "# x_train_expanded = np.einsum('bhwc -> bchw', x_train)\n",
    "# x_test_expanded = np.einsum('bhwc -> bchw', x_test)"
   ],
   "metadata": {
    "collapsed": false
   }
  },
  {
   "cell_type": "code",
   "execution_count": 305,
   "outputs": [],
   "source": [
    "le = OneHotEncoder(sparse_output=False)\n",
    "\n",
    "y_train_encoded = le.fit_transform(y_train.reshape(-1, 1))\n",
    "y_test_encoded = le.fit_transform(y_test.reshape(-1, 1))"
   ],
   "metadata": {
    "collapsed": false
   }
  },
  {
   "cell_type": "code",
   "execution_count": 306,
   "outputs": [
    {
     "data": {
      "text/plain": "<matplotlib.image.AxesImage at 0x7f96911b6290>"
     },
     "execution_count": 306,
     "metadata": {},
     "output_type": "execute_result"
    },
    {
     "data": {
      "text/plain": "<Figure size 640x480 with 1 Axes>",
      "image/png": "[encoded data removed]"
     },
     "metadata": {},
     "output_type": "display_data"
    }
   ],
   "source": [
    "plt.imshow(np.einsum(\"chw -> hwc\", x_train_expanded[0]))"
   ],
   "metadata": {
    "collapsed": false
   }
  },
  {
   "cell_type": "code",
   "execution_count": 307,
   "outputs": [],
   "source": [
    "model = Sequential(\n",
    "    input_size=(1, 28, 28),\n",
    "    output_size=10\n",
    ")"
   ],
   "metadata": {
    "collapsed": false
   }
  },
  {
   "cell_type": "code",
   "execution_count": 308,
   "outputs": [],
   "source": [
    "model.add(Conv2D(\n",
    "    n_outputs=1,\n",
    "    filter_size=5,\n",
    "    stride=1,\n",
    "    padding=2\n",
    "))\n",
    "model.add(Activation(ReLU()))\n",
    "model.add(Conv2D(\n",
    "    n_outputs=1,\n",
    "    filter_size=5,\n",
    "    stride=1,\n",
    "    padding=2\n",
    "))\n",
    "model.add(Activation(ReLU()))\n",
    "# model.add(Conv2D(\n",
    "#     n_outputs=1,\n",
    "#     filter_size=3,\n",
    "#     stride=2,\n",
    "#     padding=0\n",
    "# ))\n",
    "# model.add(Activation(ReLU()))\n",
    "model.add(Flatten())\n",
    "model.add(Linear(n_outputs=120))\n",
    "model.add(Activation(ReLU()))\n",
    "model.add(Linear(n_outputs=84))\n",
    "model.add(Activation(ReLU()))\n",
    "model.add(Linear(n_outputs=10))\n",
    "model.add(Activation(Softmax()))"
   ],
   "metadata": {
    "collapsed": false
   }
  },
  {
   "cell_type": "code",
   "execution_count": 309,
   "outputs": [
    {
     "data": {
      "text/plain": "((1, 28, 28), (1, 28, 28))"
     },
     "execution_count": 309,
     "metadata": {},
     "output_type": "execute_result"
    }
   ],
   "source": [
    "model.layers[0].input_size, model.layers[0].output_size"
   ],
   "metadata": {
    "collapsed": false
   }
  },
  {
   "cell_type": "code",
   "execution_count": 310,
   "outputs": [
    {
     "data": {
      "text/plain": "((1, 28, 28), (1, 28, 28))"
     },
     "execution_count": 310,
     "metadata": {},
     "output_type": "execute_result"
    }
   ],
   "source": [
    "model.layers[1].input_size, model.layers[1].output_size"
   ],
   "metadata": {
    "collapsed": false
   }
  },
  {
   "cell_type": "code",
   "execution_count": 311,
   "outputs": [
    {
     "data": {
      "text/plain": "((1, 28, 28), (1, 28, 28))"
     },
     "execution_count": 311,
     "metadata": {},
     "output_type": "execute_result"
    }
   ],
   "source": [
    "model.layers[2].input_size, model.layers[2].output_size"
   ],
   "metadata": {
    "collapsed": false
   }
  },
  {
   "cell_type": "code",
   "execution_count": 311,
   "outputs": [],
   "source": [],
   "metadata": {
    "collapsed": false
   }
  },
  {
   "cell_type": "code",
   "execution_count": 312,
   "outputs": [
    {
     "name": "stdout",
     "output_type": "stream",
     "text": [
      "Conv2D(input size: (1, 28, 28), output size: (1, 28, 28), filter size: 5, stride: 1, padding: 2)\n",
      "Activation(ReLU)\n",
      "Conv2D(input size: (1, 28, 28), output size: (1, 28, 28), filter size: 5, stride: 1, padding: 2)\n",
      "Activation(ReLU)\n",
      "Flatten()\n",
      "Linear(inputs: 784, outputs: 120)\n",
      "Activation(ReLU)\n",
      "Linear(inputs: 120, outputs: 84)\n",
      "Activation(ReLU)\n",
      "Linear(inputs: 84, outputs: 10)\n",
      "Activation(Softmax)\n"
     ]
    }
   ],
   "source": [
    "for layer in model.layers:\n",
    "    print(layer)"
   ],
   "metadata": {
    "collapsed": false
   }
  },
  {
   "cell_type": "code",
   "execution_count": 316,
   "outputs": [
    {
     "name": "stderr",
     "output_type": "stream",
     "text": [
      "100%|██████████| 20/20 [03:14<00:00,  9.75s/it,  Train loss: 0.18179101354841384 Val loss: 0.4704874054808241] \n"
     ]
    }
   ],
   "source": [
    "model.fit(\n",
    "    [x_train_expanded[:10000], y_train_encoded[:10000]],\n",
    "    epochs=20,\n",
    "    learning_rate=0.00001,\n",
    "    loss_function=CrossEntropy(),\n",
    "    batch_size=500,\n",
    "    verbose=True,\n",
    "    validation_data=[x_test_expanded[:100], y_test_encoded[:100]]\n",
    ")"
   ],
   "metadata": {
    "collapsed": false
   }
  },
  {
   "cell_type": "code",
   "execution_count": 317,
   "outputs": [],
   "source": [
    "y_pred = model.predict(x_test_expanded)"
   ],
   "metadata": {
    "collapsed": false
   }
  },
  {
   "cell_type": "code",
   "execution_count": 319,
   "outputs": [
    {
     "name": "stdout",
     "output_type": "stream",
     "text": [
      "Czulosc: 0.9958202716823407\n",
      "Swoistosc: 0.9987577639751553\n",
      "Accuracy: 0.8264\n",
      "F1 score: 0.8260386527002727\n",
      "BA score: 0.8264000000000001\n"
     ]
    },
    {
     "data": {
      "text/plain": "<Figure size 640x480 with 2 Axes>",
      "image/png": "[encoded data removed]"
     },
     "metadata": {},
     "output_type": "display_data"
    }
   ],
   "source": [
    "y_pred2 = np.argmax(y_pred, axis=1)\n",
    "y_test2 = y_test\n",
    "\n",
    "cm_model = confusion_matrix(y_test2, y_pred2, labels=np.unique(y_test2))\n",
    "\n",
    "tn_model = cm_model[0][0]\n",
    "fn_model = cm_model[0][1]\n",
    "tp_model = cm_model[1][1]\n",
    "fp_model = cm_model[1][0]\n",
    "ConfusionMatrixDisplay(cm_model).plot(cmap='cubehelix')\n",
    "\n",
    "# fpr, tpr, roc_auc = roc_curve(y_test, y_pred)\n",
    "#\n",
    "# rok_model = RocCurveDisplay(fpr=fpr, tpr=tpr)\n",
    "# rok_model.plot()\n",
    "\n",
    "print(\"Czulosc:\", tp_model / (tp_model + fn_model))\n",
    "print(\"Swoistosc:\", tn_model / (tn_model + fp_model))\n",
    "print(\"Accuracy:\", accuracy_score(y_test2, y_pred2))\n",
    "\n",
    "# print(\"ROC auc:\", roc_auc_score(y_test, y_pred))\n",
    "print(\"F1 score:\", f1_score(y_test2, y_pred2, average='macro'))\n",
    "print(\"BA score:\", balanced_accuracy_score(y_test2, y_pred2))"
   ],
   "metadata": {
    "collapsed": false
   }
  },
  {
   "cell_type": "code",
   "execution_count": 318,
   "outputs": [],
   "source": [],
   "metadata": {
    "collapsed": false
   }
  }
 ],
 "metadata": {
  "kernelspec": {
   "display_name": "Python 3",
   "language": "python",
   "name": "python3"
  },
  "language_info": {
   "codemirror_mode": {
    "name": "ipython",
    "version": 2
   },
   "file_extension": ".py",
   "mimetype": "text/x-python",
   "name": "python",
   "nbconvert_exporter": "python",
   "pygments_lexer": "ipython2",
   "version": "2.7.6"
  }
 },
 "nbformat": 4,
 "nbformat_minor": 0
}
